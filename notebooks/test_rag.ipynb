{
 "cells": [
  {
   "cell_type": "code",
   "execution_count": null,
   "metadata": {},
   "outputs": [],
   "source": [
    "%load_ext autoreload\n",
    "%autoreload 2"
   ]
  },
  {
   "cell_type": "code",
   "execution_count": null,
   "metadata": {},
   "outputs": [],
   "source": [
    "import os\n",
    "import sys\n",
    "from pathlib import Path\n",
    "\n",
    "from dotenv import load_dotenv\n",
    "\n",
    "# The notebook should be executed from the project root directory\n",
    "if \"_correct_path\" not in locals():\n",
    "    os.chdir(\"..\")\n",
    "    sys.path.append(\".\")\n",
    "    print(f\"changed dir to {Path('.').resolve()})\")\n",
    "    _correct_path = True\n",
    "load_dotenv()"
   ]
  },
  {
   "cell_type": "code",
   "execution_count": null,
   "metadata": {},
   "outputs": [],
   "source": [
    "import json\n",
    "\n",
    "import pandas as pd\n",
    "\n",
    "from docsassist.schema import RAGInput\n",
    "\n",
    "data = RAGInput(\n",
    "    promptText=\"What is DataRobot?\", association_id=\"42\", messages=[]\n",
    ").model_dump()\n",
    "data[\"messages\"] = json.dumps(data[\"messages\"])\n",
    "\n",
    "rag_input = pd.DataFrame.from_records([data])\n",
    "rag_input"
   ]
  },
  {
   "cell_type": "markdown",
   "metadata": {},
   "source": [
    "### Get predictions as pd.Dataframe using the `score` endpoint"
   ]
  },
  {
   "cell_type": "code",
   "execution_count": null,
   "metadata": {},
   "outputs": [],
   "source": [
    "import datarobot as dr\n",
    "from datarobot_predict.deployment import predict\n",
    "\n",
    "from docsassist.deployments import RAGDeployment\n",
    "\n",
    "rag_deployment_id = RAGDeployment().id\n",
    "\n",
    "predict(dr.Deployment.get(rag_deployment_id), rag_input).dataframe"
   ]
  },
  {
   "cell_type": "markdown",
   "metadata": {},
   "source": [
    "### Get predictions as openai ChatCompletion using the `chat` endpoint"
   ]
  },
  {
   "cell_type": "code",
   "execution_count": null,
   "metadata": {},
   "outputs": [],
   "source": [
    "import datarobot as dr\n",
    "from IPython.display import Markdown as md\n",
    "from IPython.display import clear_output\n",
    "from openai import OpenAI\n",
    "\n",
    "dr_client = dr.client.get_client()\n",
    "openai_client = OpenAI(\n",
    "    base_url=dr_client.endpoint + f\"/deployments/{rag_deployment_id}\",\n",
    "    api_key=dr_client.token,\n",
    ")\n",
    "response = openai_client.chat.completions.create(\n",
    "    messages=[\n",
    "        {\n",
    "            \"role\": \"user\",\n",
    "            \"content\": \"What metrics does DataRobot support? Please return a list\",\n",
    "        }\n",
    "    ],\n",
    "    model=\"llm-blueprint\",\n",
    ")\n",
    "\n",
    "md(response.choices[0].message.content)"
   ]
  },
  {
   "cell_type": "code",
   "execution_count": null,
   "metadata": {},
   "outputs": [],
   "source": [
    "response.citations"
   ]
  },
  {
   "cell_type": "markdown",
   "metadata": {},
   "source": [
    "### Make predictions using the helper function"
   ]
  },
  {
   "cell_type": "code",
   "execution_count": null,
   "metadata": {},
   "outputs": [],
   "source": [
    "from docsassist.predict import get_rag_completion\n",
    "\n",
    "prediction, association_id = get_rag_completion(\n",
    "    \"How is DataRobot so convenient?\", messages=[]\n",
    ")"
   ]
  },
  {
   "cell_type": "code",
   "execution_count": null,
   "metadata": {},
   "outputs": [],
   "source": [
    "md(prediction.completion)"
   ]
  },
  {
   "cell_type": "code",
   "execution_count": null,
   "metadata": {},
   "outputs": [],
   "source": [
    "prediction.references"
   ]
  },
  {
   "cell_type": "markdown",
   "metadata": {},
   "source": [
    "# Test the model locally"
   ]
  },
  {
   "cell_type": "code",
   "execution_count": null,
   "metadata": {},
   "outputs": [],
   "source": [
    "sys.path.append(\"deployment_diy_rag\")\n",
    "from deployment_diy_rag.custom import chat, load_model, score"
   ]
  },
  {
   "cell_type": "markdown",
   "metadata": {},
   "source": [
    "### Use the chain defined in `deployment_diy_rag/custom.py` directly"
   ]
  },
  {
   "cell_type": "code",
   "execution_count": null,
   "metadata": {},
   "outputs": [],
   "source": [
    "chain = load_model(\"deployment_diy_rag\")"
   ]
  },
  {
   "cell_type": "code",
   "execution_count": null,
   "metadata": {},
   "outputs": [],
   "source": [
    "stream = chain.stream(\n",
    "    input={\n",
    "        \"input\": \"What is a playground? Please respond with a very detailed long exhibition of what can be done.\",\n",
    "        \"chat_history\": [],\n",
    "    }\n",
    ")\n",
    "\n",
    "answer = \"\"\n",
    "for chunk in stream:\n",
    "    if \"answer\" in chunk:\n",
    "        answer += chunk[\"answer\"]\n",
    "        clear_output(wait=True)\n",
    "        display(md(answer))"
   ]
  },
  {
   "cell_type": "markdown",
   "metadata": {},
   "source": [
    "### Use the score hook directly"
   ]
  },
  {
   "cell_type": "code",
   "execution_count": null,
   "metadata": {},
   "outputs": [],
   "source": [
    "import json\n",
    "\n",
    "import pandas as pd\n",
    "\n",
    "from docsassist.schema import PROMPT_COLUMN_NAME, TARGET_COLUMN_NAME\n",
    "\n",
    "data = pd.DataFrame.from_records(\n",
    "    [\n",
    "        {\n",
    "            PROMPT_COLUMN_NAME: \"How would I get one deployed?\",\n",
    "            \"messages\": json.dumps(  # we provide a history here\n",
    "                [\n",
    "                    {\n",
    "                        \"role\": \"user\",\n",
    "                        \"content\": \"What is a Playground\",\n",
    "                    },\n",
    "                    {\n",
    "                        \"role\": \"assistant\",\n",
    "                        \"content\": \"A Playground can be used to create LLM's inside DataRobot\",\n",
    "                    },\n",
    "                ]\n",
    "            ),\n",
    "        }\n",
    "    ]\n",
    ")\n",
    "response = score(data, model=load_model(\"deployment_diy_rag\"))\n",
    "md(response[TARGET_COLUMN_NAME].values[0])"
   ]
  },
  {
   "cell_type": "code",
   "execution_count": null,
   "metadata": {},
   "outputs": [],
   "source": [
    "response"
   ]
  },
  {
   "cell_type": "markdown",
   "metadata": {},
   "source": [
    "### use the `chat` hook directly"
   ]
  },
  {
   "cell_type": "code",
   "execution_count": null,
   "metadata": {},
   "outputs": [],
   "source": [
    "params = {\n",
    "    \"messages\": [{\"role\": \"user\", \"content\": \"What is a playground?\"}],\n",
    "    \"model\": \"llm-blueprint\",\n",
    "    \"stream\": True,\n",
    "}\n",
    "\n",
    "response = chat(params, load_model(\"deployment_diy_rag\"))\n",
    "\n",
    "md(response.choices[0].message.content)"
   ]
  },
  {
   "cell_type": "code",
   "execution_count": null,
   "metadata": {},
   "outputs": [],
   "source": [
    "response.citations"
   ]
  }
 ],
 "metadata": {
  "kernelspec": {
   "display_name": ".venv",
   "language": "python",
   "name": "python3"
  },
  "language_info": {
   "codemirror_mode": {
    "name": "ipython",
    "version": 3
   },
   "file_extension": ".py",
   "mimetype": "text/x-python",
   "name": "python",
   "nbconvert_exporter": "python",
   "pygments_lexer": "ipython3",
   "version": "3.12.4"
  }
 },
 "nbformat": 4,
 "nbformat_minor": 2
}
