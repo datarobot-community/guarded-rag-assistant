{
 "cells": [
  {
   "cell_type": "code",
   "execution_count": null,
   "metadata": {},
   "outputs": [],
   "source": [
    "%load_ext autoreload\n",
    "%autoreload 2"
   ]
  },
  {
   "cell_type": "code",
   "execution_count": null,
   "metadata": {},
   "outputs": [],
   "source": [
    "import os\n",
    "import sys\n",
    "from pathlib import Path\n",
    "\n",
    "from dotenv import load_dotenv\n",
    "\n",
    "# The notebook should be executed from the project root directory\n",
    "if \"_correct_path\" not in locals():\n",
    "    os.chdir(\"..\")\n",
    "    sys.path.append(\".\")\n",
    "    print(f\"changed dir to {Path('.').resolve()})\")\n",
    "    _correct_path = True\n",
    "load_dotenv()"
   ]
  },
  {
   "cell_type": "code",
   "execution_count": null,
   "metadata": {},
   "outputs": [],
   "source": [
    "import json\n",
    "\n",
    "import pandas as pd\n",
    "\n",
    "from docsassist.schema import RAGInput\n",
    "\n",
    "data = RAGInput(\n",
    "    promptText=\"What is DataRobot?\", association_id=\"42\", messages=[]\n",
    ").model_dump()\n",
    "data[\"messages\"] = json.dumps(data[\"messages\"])\n",
    "\n",
    "rag_input = pd.DataFrame.from_records([data])\n",
    "rag_input"
   ]
  },
  {
   "cell_type": "code",
   "execution_count": null,
   "metadata": {},
   "outputs": [],
   "source": [
    "import datarobot as dr\n",
    "from datarobot_predict.deployment import predict\n",
    "\n",
    "from docsassist.deployments import RAGDeployment\n",
    "\n",
    "rag_deployment_id = RAGDeployment().id\n",
    "print(\n",
    "    predict(dr.Deployment.get(rag_deployment_id), rag_input).dataframe[\n",
    "        \"completion_PREDICTION\"\n",
    "    ][0]\n",
    ")"
   ]
  },
  {
   "cell_type": "code",
   "execution_count": null,
   "metadata": {},
   "outputs": [],
   "source": [
    "from docsassist.predict import get_rag_completion\n",
    "\n",
    "prediction, association_id = get_rag_completion(\n",
    "    \"How is DataRobot so convenient?\", messages=[]\n",
    ")"
   ]
  },
  {
   "cell_type": "code",
   "execution_count": null,
   "metadata": {},
   "outputs": [],
   "source": [
    "from IPython.display import Markdown as md\n",
    "\n",
    "md(\n",
    "    prediction.completion\n",
    "    + \"\\n***\\n\\n\\n# References:\\n\"\n",
    "    + \"\\n\".join([f\"* {reference.page_content}\" for reference in prediction.references])\n",
    ")"
   ]
  }
 ],
 "metadata": {
  "kernelspec": {
   "display_name": ".venv",
   "language": "python",
   "name": "python3"
  },
  "language_info": {
   "codemirror_mode": {
    "name": "ipython",
    "version": 3
   },
   "file_extension": ".py",
   "mimetype": "text/x-python",
   "name": "python",
   "nbconvert_exporter": "python",
   "pygments_lexer": "ipython3",
   "version": "3.11.9"
  }
 },
 "nbformat": 4,
 "nbformat_minor": 2
}
